{
 "cells": [
  {
   "cell_type": "code",
   "execution_count": 1,
   "metadata": {},
   "outputs": [],
   "source": [
    "import pandas as pd\n",
    "import numpy as np\n",
    "import matplotlib.pyplot as plt"
   ]
  },
  {
   "cell_type": "code",
   "execution_count": 2,
   "metadata": {},
   "outputs": [],
   "source": [
    "# 파일 한 번에 불러오기\n",
    "# global 변수 사용하기\n",
    "for i in range(1,8):\n",
    "    globals()[f'case_{i}'] = pd.read_csv(f'case_{i}.csv', index_col=0)"
   ]
  },
  {
   "cell_type": "code",
   "execution_count": 36,
   "metadata": {},
   "outputs": [],
   "source": [
    "# 파일 불러오기\n",
    "# case_1 =  pd.read_csv('case_1.csv', index_col=0)\n",
    "# case_2 =  pd.read_csv('case_2.csv', index_col=0)\n",
    "# case_3 =  pd.read_csv('case_3.csv', index_col=0)\n",
    "# case_4 =  pd.read_csv('case_4.csv', index_col=0)\n",
    "# case_5 =  pd.read_csv('case_5.csv', index_col=0)\n",
    "# case_6 =  pd.read_csv('case_6.csv', index_col=0)\n",
    "# case_7 =  pd.read_csv('case_7.csv', index_col=0)"
   ]
  },
  {
   "cell_type": "markdown",
   "metadata": {},
   "source": [
    "# 미분값으로 구하면 센서 오류 때문에 제대로 안 구해짐.."
   ]
  },
  {
   "cell_type": "markdown",
   "metadata": {},
   "source": [
    "### 함수1 - 기울기 구하기"
   ]
  },
  {
   "cell_type": "code",
   "execution_count": 3,
   "metadata": {},
   "outputs": [],
   "source": [
    "# 기울기 구하는 함수\n",
    "# 리스트로 기울기 반환함\n",
    "def diff_search(df_name):\n",
    "    diff = []\n",
    "    for i in range(len(df_name)):\n",
    "        if i == 0:\n",
    "            diff.append(0)\n",
    "        else:\n",
    "            # 데이터프레임 형태 달라지면 이거 바꿔야 함\n",
    "            diff.append(df_name['1'][i] - df_name['1'][i-1])\n",
    "    return diff"
   ]
  },
  {
   "cell_type": "code",
   "execution_count": 4,
   "metadata": {},
   "outputs": [],
   "source": [
    "# 변수 여러개 선언 후 불러오기\n",
    "# global로 설정해서 불러오기\n",
    "\n",
    "for i in range(1,8):\n",
    "    globals()[f'case_{i}_diff'] = diff_search(globals()[f'case_{i}'])"
   ]
  },
  {
   "cell_type": "code",
   "execution_count": 5,
   "metadata": {},
   "outputs": [
    {
     "data": {
      "text/plain": [
       "[<matplotlib.lines.Line2D at 0x1e0db0a0730>]"
      ]
     },
     "execution_count": 5,
     "metadata": {},
     "output_type": "execute_result"
    },
    {
     "data": {
      "image/png": "[encoded data removed]",
      "text/plain": [
       "<Figure size 640x480 with 1 Axes>"
      ]
     },
     "metadata": {},
     "output_type": "display_data"
    }
   ],
   "source": [
    "plt.plot(case_3_diff)"
   ]
  },
  {
   "cell_type": "markdown",
   "metadata": {},
   "source": [
    "# 시작\n",
    "1. 노이즈 제거\n",
    "2. 기울기 0이 아닌 값 넣기\n",
    "3. 2번 리스트에서 곱이 음수가 되는 부분 찾기\n",
    "4. 이를 통해 변하는 부분 확인, 기울기 - 에서 + 로 바뀌면 한 명 지나감\n",
    "5. +에서 자르는 방법 고민 필요"
   ]
  },
  {
   "cell_type": "code",
   "execution_count": 6,
   "metadata": {},
   "outputs": [],
   "source": [
    "# 1. noise 제거\n",
    "for i, diff in enumerate(case_3_diff):\n",
    "    if -4 < diff < 4:\n",
    "        case_3_diff[i] = 0"
   ]
  },
  {
   "cell_type": "code",
   "execution_count": 27,
   "metadata": {},
   "outputs": [],
   "source": [
    "# 2. 기울기 0이 아닌 값 리스트에 넣기\n",
    "temp_list = []\n",
    "\n",
    "# 기울기 곱이 마이너스인 부분 저장 리스트\n",
    "diff_mul_minus= []\n",
    "\n",
    "# i는 번째, diff는 기울기 값\n",
    "for i, diff in enumerate(case_3_diff):\n",
    "    # 기울기가 0이면 넘어가기\n",
    "    if diff == 0:\n",
    "        continue\n",
    "    # 기울기가 0이 아니면\n",
    "    else:\n",
    "        # temp_list에 기울기 집어넣기\n",
    "        temp_list.append([i,diff])"
   ]
  },
  {
   "cell_type": "code",
   "execution_count": 28,
   "metadata": {},
   "outputs": [
    {
     "name": "stdout",
     "output_type": "stream",
     "text": [
      "[[140, -6.0], [142, -8.0], [143, -5.0], [145, -13.0], [148, -10.0], [151, 5.0], [154, 9.0], [156, 9.0], [157, -10.0], [159, -11.0], [160, -5.0], [161, -9.0], [164, 13.0], [166, 15.0], [168, 4.0], [170, -16.0], [171, -17.0], [174, 15.0], [176, 9.0], [177, 16.0], [179, 16.0], [507, -4.0], [510, -6.0], [513, -9.0], [515, -5.0], [518, -11.0], [521, -11.0], [523, -11.0], [526, 11.0], [528, 6.0], [532, 7.0], [534, -4.0], [536, -13.0], [540, -5.0], [543, 8.0], [547, 5.0], [553, -9.0], [557, 13.0], [559, 8.0], [561, 8.0], [562, 19.0], [742, -5.0], [744, -7.0], [745, -5.0], [748, -12.0], [749, -12.0], [751, -12.0], [755, 11.0], [757, 4.0], [759, 13.0], [761, 7.0], [762, -13.0], [765, -4.0], [766, -4.0], [768, -5.0], [769, 4.0], [773, -6.0], [775, -6.0], [777, -5.0], [780, 14.0], [782, 15.0], [784, 19.0], [786, 10.0], [958, -6.0], [960, -10.0], [962, -6.0], [964, -7.0], [966, -14.0], [972, 6.0], [974, 8.0], [978, -10.0], [980, -9.0], [988, 5.0], [992, -4.0], [994, -8.0], [996, 10.0], [998, 6.0], [1000, 14.0], [1001, 16.0], [1003, 9.0], [1299, -6.0], [1301, -10.0], [1303, -6.0], [1305, -13.0], [1308, -13.0], [1310, -11.0], [1312, 10.0], [1314, 12.0], [1316, 4.0], [1317, 9.0], [1321, -13.0], [1323, -10.0], [1325, 5.0], [1327, 5.0], [1329, 5.0], [1331, 4.0], [1333, -5.0], [1335, -11.0], [1337, 4.0], [1339, -9.0], [1343, 16.0], [1345, 9.0], [1347, 9.0], [1349, 19.0]] "
     ]
    }
   ],
   "source": [
    "print(temp_list, end = ' ')"
   ]
  },
  {
   "cell_type": "code",
   "execution_count": 16,
   "metadata": {},
   "outputs": [
    {
     "data": {
      "text/plain": [
       "[[140, -6.0],\n",
       " [142, -8.0],\n",
       " [143, -5.0],\n",
       " [145, -13.0],\n",
       " [148, -10.0],\n",
       " [151, 5.0],\n",
       " [154, 9.0],\n",
       " [156, 9.0],\n",
       " [157, -10.0],\n",
       " [159, -11.0],\n",
       " [160, -5.0],\n",
       " [161, -9.0],\n",
       " [164, 13.0],\n",
       " [166, 15.0],\n",
       " [168, 4.0],\n",
       " [170, -16.0],\n",
       " [171, -17.0],\n",
       " [174, 15.0],\n",
       " [176, 9.0],\n",
       " [177, 16.0],\n",
       " [179, 16.0],\n",
       " [507, -4.0],\n",
       " [510, -6.0],\n",
       " [513, -9.0],\n",
       " [515, -5.0],\n",
       " [518, -11.0],\n",
       " [521, -11.0],\n",
       " [523, -11.0],\n",
       " [526, 11.0],\n",
       " [528, 6.0],\n",
       " [532, 7.0],\n",
       " [534, -4.0],\n",
       " [536, -13.0],\n",
       " [540, -5.0],\n",
       " [543, 8.0],\n",
       " [547, 5.0],\n",
       " [553, -9.0],\n",
       " [557, 13.0],\n",
       " [559, 8.0],\n",
       " [561, 8.0],\n",
       " [562, 19.0],\n",
       " [742, -5.0],\n",
       " [744, -7.0],\n",
       " [745, -5.0],\n",
       " [748, -12.0],\n",
       " [749, -12.0],\n",
       " [751, -12.0],\n",
       " [755, 11.0],\n",
       " [757, 4.0],\n",
       " [759, 13.0],\n",
       " [761, 7.0],\n",
       " [762, -13.0],\n",
       " [765, -4.0],\n",
       " [766, -4.0],\n",
       " [768, -5.0],\n",
       " [769, 4.0],\n",
       " [773, -6.0],\n",
       " [775, -6.0],\n",
       " [777, -5.0],\n",
       " [780, 14.0],\n",
       " [782, 15.0],\n",
       " [784, 19.0],\n",
       " [786, 10.0],\n",
       " [958, -6.0],\n",
       " [960, -10.0],\n",
       " [962, -6.0],\n",
       " [964, -7.0],\n",
       " [966, -14.0],\n",
       " [972, 6.0],\n",
       " [974, 8.0],\n",
       " [978, -10.0],\n",
       " [980, -9.0],\n",
       " [988, 5.0],\n",
       " [992, -4.0],\n",
       " [994, -8.0],\n",
       " [996, 10.0],\n",
       " [998, 6.0],\n",
       " [1000, 14.0],\n",
       " [1001, 16.0],\n",
       " [1003, 9.0],\n",
       " [1299, -6.0],\n",
       " [1301, -10.0],\n",
       " [1303, -6.0],\n",
       " [1305, -13.0],\n",
       " [1308, -13.0],\n",
       " [1310, -11.0],\n",
       " [1312, 10.0],\n",
       " [1314, 12.0],\n",
       " [1316, 4.0],\n",
       " [1317, 9.0],\n",
       " [1321, -13.0],\n",
       " [1323, -10.0],\n",
       " [1325, 5.0],\n",
       " [1327, 5.0],\n",
       " [1329, 5.0],\n",
       " [1331, 4.0],\n",
       " [1333, -5.0],\n",
       " [1335, -11.0],\n",
       " [1337, 4.0],\n",
       " [1339, -9.0],\n",
       " [1343, 16.0],\n",
       " [1345, 9.0],\n",
       " [1347, 9.0],\n",
       " [1349, 19.0]]"
      ]
     },
     "execution_count": 16,
     "metadata": {},
     "output_type": "execute_result"
    }
   ],
   "source": [
    "temp_list"
   ]
  },
  {
   "cell_type": "code",
   "execution_count": 58,
   "metadata": {},
   "outputs": [
    {
     "data": {
      "text/plain": [
       "104"
      ]
     },
     "execution_count": 58,
     "metadata": {},
     "output_type": "execute_result"
    }
   ],
   "source": [
    "len(temp_list)"
   ]
  },
  {
   "cell_type": "code",
   "execution_count": 118,
   "metadata": {},
   "outputs": [
    {
     "name": "stdout",
     "output_type": "stream",
     "text": [
      "104\n"
     ]
    }
   ],
   "source": [
    "# 3~5\n",
    "\n",
    "pass_point = []\n",
    "\n",
    "for i in range(len(temp_list)):\n",
    "    \n",
    "    # 시작인 0번째 값 넣어주기\n",
    "    if i == 0:\n",
    "        pass_point.append(temp_list[i][0])\n",
    "    # 사람이 지나갈 때 기울기는 -에서 +로 바뀜\n",
    "    # +에서 -는 사람이 한 번 지나갔다는 걸 의미\n",
    "    \n",
    "    # 뒷부분에 i+1을 사용하므로 에러 뜨므로 브레이크 걸어주기\n",
    "    if i+2 == len(temp_list):\n",
    "        print(i+2)\n",
    "        # 마지막 값 넣어주기\n",
    "        pass_point.append(temp_list[-1][0])\n",
    "        break\n",
    "\n",
    "    if temp_list[i][1] > 0:\n",
    "        # 곱이 마이너스라면\n",
    "        if temp_list[i][1] * temp_list[i+1][1] < 0:\n",
    "            #마이너스 시작 지점 저장하기\n",
    "            pass_point.append(temp_list[i+1][0])"
   ]
  },
  {
   "cell_type": "code",
   "execution_count": 119,
   "metadata": {},
   "outputs": [
    {
     "name": "stdout",
     "output_type": "stream",
     "text": [
      "17\n",
      "[140, 157, 170, 507, 534, 553, 742, 762, 773, 958, 978, 992, 1299, 1321, 1333, 1339, 1349] "
     ]
    }
   ],
   "source": [
    "# 사람 감지 시작점만 리스트로 받기\n",
    "# 1339만 에러임\n",
    "print(len(pass_point))\n",
    "print(pass_point, end = ' ')"
   ]
  },
  {
   "cell_type": "markdown",
   "metadata": {},
   "source": [
    "## 이제 번호리스트를 만들자"
   ]
  },
  {
   "cell_type": "code",
   "execution_count": 120,
   "metadata": {},
   "outputs": [],
   "source": [
    "# 1339만 에러임\n",
    "del pass_point[-2]"
   ]
  },
  {
   "cell_type": "code",
   "execution_count": 121,
   "metadata": {},
   "outputs": [
    {
     "name": "stdout",
     "output_type": "stream",
     "text": [
      "[140, 157, 170, 507, 534, 553, 742, 762, 773, 958, 978, 992, 1299, 1321, 1333, 1349]\n"
     ]
    },
    {
     "data": {
      "text/plain": [
       "16"
      ]
     },
     "execution_count": 121,
     "metadata": {},
     "output_type": "execute_result"
    }
   ],
   "source": [
    "print(pass_point)\n",
    "len(pass_point)"
   ]
  },
  {
   "cell_type": "markdown",
   "metadata": {},
   "source": [
    "# 이제 pass_point로 호출하자"
   ]
  },
  {
   "cell_type": "code",
   "execution_count": 122,
   "metadata": {},
   "outputs": [],
   "source": [
    "start = pass_point\n",
    "end = []\n",
    "\n",
    "# 첫 값인 140은 제외하기 위해 1부터 시작\n",
    "for i in range(1, len(temp_list)):\n",
    "    if temp_list[i][0] in start:\n",
    "        end.append(temp_list[i-1][0])\n",
    "# 맨 마지막 바로 앞 값이 들어가 있어서 pop으로 빼주기\n",
    "end.pop()\n",
    "end.append(pass_point.pop())"
   ]
  },
  {
   "cell_type": "code",
   "execution_count": 123,
   "metadata": {},
   "outputs": [
    {
     "name": "stdout",
     "output_type": "stream",
     "text": [
      "[140, 157, 170, 507, 534, 553, 742, 762, 773, 958, 978, 992, 1299, 1321, 1333] 15\n",
      "[156, 168, 179, 532, 547, 562, 761, 769, 786, 974, 988, 1003, 1317, 1331, 1349]\n"
     ]
    }
   ],
   "source": [
    "print(start, len(start))\n",
    "print(end)"
   ]
  },
  {
   "cell_type": "code",
   "execution_count": 124,
   "metadata": {},
   "outputs": [],
   "source": [
    "case_3_fluc = []\n",
    "\n",
    "for i in range(len(start)):\n",
    "    # 마스크 씌우고\n",
    "    temp_start = start[i]\n",
    "    temp_end = end[i]\n",
    "    # 뽑기\n",
    "    case_3_fluc.append(case_3['1'][temp_start:temp_end])"
   ]
  },
  {
   "cell_type": "code",
   "execution_count": 125,
   "metadata": {},
   "outputs": [
    {
     "data": {
      "text/plain": [
       "15"
      ]
     },
     "execution_count": 125,
     "metadata": {},
     "output_type": "execute_result"
    }
   ],
   "source": [
    "len(case_3_fluc)"
   ]
  },
  {
   "cell_type": "code",
   "execution_count": 133,
   "metadata": {},
   "outputs": [
    {
     "data": {
      "text/plain": [
       "553     86.0\n",
       "554     86.0\n",
       "555     87.0\n",
       "556     87.0\n",
       "557    100.0\n",
       "558    100.0\n",
       "559    108.0\n",
       "560    108.0\n",
       "561    116.0\n",
       "Name: 1, dtype: float64"
      ]
     },
     "execution_count": 133,
     "metadata": {},
     "output_type": "execute_result"
    }
   ],
   "source": [
    "# case 5의 변동 뽑기 완료\n",
    "case_3_fluc[5]"
   ]
  },
  {
   "cell_type": "code",
   "execution_count": 138,
   "metadata": {},
   "outputs": [],
   "source": [
    "# 리스트 저장하기 위한 피클 라이브러리\n",
    "import pickle"
   ]
  },
  {
   "cell_type": "code",
   "execution_count": 135,
   "metadata": {},
   "outputs": [],
   "source": [
    " with open('case_3_fluc.pkl','wb') as f:\n",
    "    pickle.dump(case_3_fluc,f)"
   ]
  },
  {
   "cell_type": "code",
   "execution_count": 136,
   "metadata": {},
   "outputs": [],
   "source": [
    " with open('case_3_fluc.pkl','rb') as f:\n",
    "    temp_temp = pickle.load(f)"
   ]
  },
  {
   "cell_type": "code",
   "execution_count": null,
   "metadata": {},
   "outputs": [],
   "source": []
  },
  {
   "cell_type": "markdown",
   "metadata": {},
   "source": [
    "# 함수 만들어보자"
   ]
  },
  {
   "cell_type": "code",
   "execution_count": 185,
   "metadata": {},
   "outputs": [],
   "source": [
    "# 기울기 구하는 함수\n",
    "# 리스트로 기울기 반환함\n",
    "def diff_search(df_name):\n",
    "    diff = []\n",
    "    for i in range(len(df_name)):\n",
    "        if i == 0:\n",
    "            diff.append(0)\n",
    "        else:\n",
    "            # 데이터프레임 형태 달라지면 이거 바꿔야 함\n",
    "            diff.append(df_name['1'][i] - df_name['1'][i-1])\n",
    "    return diff\n",
    "\n",
    "# 변수 여러개 선언 후 불러오기\n",
    "# global로 설정해서 불러오기\n",
    "\n",
    "for i in range(1,8):\n",
    "    globals()[f'case_{i}_diff'] = diff_search(globals()[f'case_{i}'])\n",
    "\n",
    "# 여기는 noise 제거하는 함수\n",
    "def del_noise(diff_list):\n",
    "    for i, diff in enumerate(diff_list):\n",
    "        if -4 < diff < 4:\n",
    "            diff_list[i] = 0\n",
    "    return diff_list\n",
    "\n",
    "def make_diff_list(diff_list):\n",
    "    # 2. 기울기 0이 아닌 값 리스트에 넣기\n",
    "    temp_list = []\n",
    "    # i는 번째, diff는 기울기 값\n",
    "    for i, diff in enumerate(diff_list):\n",
    "        # 기울기가 0이면 넘어가기\n",
    "        if diff == 0:\n",
    "            continue\n",
    "        # 기울기가 0이 아니면\n",
    "        else:\n",
    "            # temp_list에 기울기 집어넣기\n",
    "            temp_list.append([i,diff])\n",
    "    return temp_list\n",
    "\n",
    "def make_pass_point(temp_list):\n",
    "    pass_point = []\n",
    "\n",
    "    for i in range(len(temp_list)):\n",
    "        \n",
    "        # 시작인 0번째 값 넣어주기\n",
    "        if i == 0:\n",
    "            pass_point.append(temp_list[i][0])\n",
    "        # 사람이 지나갈 때 기울기는 -에서 +로 바뀜\n",
    "        # +에서 -는 사람이 한 번 지나갔다는 걸 의미\n",
    "        \n",
    "        # 뒷부분에 i+1을 사용하므로 에러 뜨므로 브레이크 걸어주기\n",
    "        if i+2 == len(temp_list):\n",
    "            print(i+2)\n",
    "            # 마지막 값 넣어주기\n",
    "            pass_point.append(temp_list[-1][0])\n",
    "            break\n",
    "\n",
    "        if temp_list[i][1] > 0:\n",
    "            # 곱이 마이너스라면\n",
    "            if temp_list[i][1] * temp_list[i+1][1] < 0:\n",
    "                #마이너스 시작 지점 저장하기\n",
    "                pass_point.append(temp_list[i+1][0])\n",
    "    return pass_point, temp_list\n",
    "\n",
    "def fin_start_end(pass_point, temp_list):\n",
    "    start = pass_point\n",
    "    end = []\n",
    "\n",
    "    # 첫 값인 140은 제외하기 위해 1부터 시작\n",
    "    for i in range(1, len(temp_list)):\n",
    "        if temp_list[i][0] in start:\n",
    "            end.append(temp_list[i-1][0])\n",
    "    # 맨 마지막 바로 앞 값이 들어가 있어서 pop으로 빼주기\n",
    "    end.pop()\n",
    "    end.append(pass_point.pop())\n",
    "    return start, end\n",
    "\n",
    "# 몇번째 케이스?\n",
    "def find_fluc(n, start, end):\n",
    "    globals()[f'case_{n}_fluc'] = []\n",
    "\n",
    "    for i in range(len(start)):\n",
    "        # 마스크 씌우고\n",
    "        temp_start = start[i]\n",
    "        temp_end = end[i]\n",
    "        # 뽑기\n",
    "        globals()[f'case_{n}_fluc'].append(globals()[f'case_{n}']['1'][temp_start:temp_end])\n",
    "\n",
    "    return globals()[f'case_{n}_fluc']\n",
    "\n"
   ]
  },
  {
   "cell_type": "code",
   "execution_count": 176,
   "metadata": {},
   "outputs": [
    {
     "name": "stdout",
     "output_type": "stream",
     "text": [
      "131\n"
     ]
    }
   ],
   "source": [
    "pass_point, temp_list = make_pass_point(make_diff_list(del_noise(case_1_diff)))"
   ]
  },
  {
   "cell_type": "code",
   "execution_count": 177,
   "metadata": {},
   "outputs": [],
   "source": [
    "start, end = fin_start_end(pass_point, temp_list)"
   ]
  },
  {
   "cell_type": "code",
   "execution_count": 181,
   "metadata": {},
   "outputs": [
    {
     "data": {
      "text/plain": [
       "([207    125.0\n",
       "  208    125.0\n",
       "  209    117.0\n",
       "  210    117.0\n",
       "  211    106.0\n",
       "  212    106.0\n",
       "  213    106.0\n",
       "  214     99.0\n",
       "  215     99.0\n",
       "  216     99.0\n",
       "  217     89.0\n",
       "  218     89.0\n",
       "  219     78.0\n",
       "  220     78.0\n",
       "  221     78.0\n",
       "  222     69.0\n",
       "  223     69.0\n",
       "  224     73.0\n",
       "  225     73.0\n",
       "  226     73.0\n",
       "  227     88.0\n",
       "  228     88.0\n",
       "  229     97.0\n",
       "  230     97.0\n",
       "  231     97.0\n",
       "  232    116.0\n",
       "  Name: 1, dtype: float64,\n",
       "  325    128.0\n",
       "  326    120.0\n",
       "  327    120.0\n",
       "  328    114.0\n",
       "  329    114.0\n",
       "  330    101.0\n",
       "  331    101.0\n",
       "  332     87.0\n",
       "  333     75.0\n",
       "  334     75.0\n",
       "  335     85.0\n",
       "  336     85.0\n",
       "  337     88.0\n",
       "  338     88.0\n",
       "  339     96.0\n",
       "  340    114.0\n",
       "  341    114.0\n",
       "  342    123.0\n",
       "  343    123.0\n",
       "  Name: 1, dtype: float64,\n",
       "  701     93.0\n",
       "  702     93.0\n",
       "  703    108.0\n",
       "  704    108.0\n",
       "  705    126.0\n",
       "  706    126.0\n",
       "  707    126.0\n",
       "  Name: 1, dtype: float64,\n",
       "  767    126.0\n",
       "  768    126.0\n",
       "  769    116.0\n",
       "  770    102.0\n",
       "  771    102.0\n",
       "  772     85.0\n",
       "  773     85.0\n",
       "  774     78.0\n",
       "  775      0.0\n",
       "  776      0.0\n",
       "  777     90.0\n",
       "  778     90.0\n",
       "  779    108.0\n",
       "  780    118.0\n",
       "  781    118.0\n",
       "  782    117.0\n",
       "  783    117.0\n",
       "  Name: 1, dtype: float64,\n",
       "  830    123.0\n",
       "  831    123.0\n",
       "  832    113.0\n",
       "  833    108.0\n",
       "  834    108.0\n",
       "  835     96.0\n",
       "  836     86.0\n",
       "  837     85.0\n",
       "  838     85.0\n",
       "  839     95.0\n",
       "  840    102.0\n",
       "  841    102.0\n",
       "  842    117.0\n",
       "  Name: 1, dtype: float64,\n",
       "  993     129.0\n",
       "  994     129.0\n",
       "  995     129.0\n",
       "  996     121.0\n",
       "  997     121.0\n",
       "  998     121.0\n",
       "  999     121.0\n",
       "  1000    109.0\n",
       "  1001    109.0\n",
       "  1002    109.0\n",
       "  1003    102.0\n",
       "  1004    102.0\n",
       "  1005    102.0\n",
       "  1006     90.0\n",
       "  1007     90.0\n",
       "  1008     78.0\n",
       "  1009     78.0\n",
       "  1010     78.0\n",
       "  1011     88.0\n",
       "  1012     88.0\n",
       "  1013     88.0\n",
       "  1014    101.0\n",
       "  1015    101.0\n",
       "  1016    101.0\n",
       "  1017    117.0\n",
       "  1018    117.0\n",
       "  1019    125.0\n",
       "  1020    125.0\n",
       "  1021    125.0\n",
       "  Name: 1, dtype: float64,\n",
       "  1065    127.0\n",
       "  1066    127.0\n",
       "  1067    117.0\n",
       "  1068    117.0\n",
       "  1069    104.0\n",
       "  1070    104.0\n",
       "  1071     98.0\n",
       "  1072     91.0\n",
       "  1073     91.0\n",
       "  1074     99.0\n",
       "  1075     99.0\n",
       "  1076    111.0\n",
       "  1077    125.0\n",
       "  1078    125.0\n",
       "  Name: 1, dtype: float64,\n",
       "  1127    126.0\n",
       "  1128    126.0\n",
       "  1129    123.0\n",
       "  1130    114.0\n",
       "  1131    114.0\n",
       "  1132    103.0\n",
       "  1133    103.0\n",
       "  1134     92.0\n",
       "  1135     87.0\n",
       "  1136     82.0\n",
       "  1137     82.0\n",
       "  1138     94.0\n",
       "  1139    108.0\n",
       "  1140    108.0\n",
       "  1141    125.0\n",
       "  Name: 1, dtype: float64,\n",
       "  1301    130.0\n",
       "  1302    130.0\n",
       "  1303    130.0\n",
       "  1304    124.0\n",
       "  1305    124.0\n",
       "  1306    115.0\n",
       "  1307    115.0\n",
       "  1308    101.0\n",
       "  1309    101.0\n",
       "  1310     95.0\n",
       "  1311     95.0\n",
       "  1312     95.0\n",
       "  1313     82.0\n",
       "  1314     82.0\n",
       "  1315     91.0\n",
       "  1316     91.0\n",
       "  1317    101.0\n",
       "  1318    101.0\n",
       "  1319    117.0\n",
       "  1320    125.0\n",
       "  1321    125.0\n",
       "  Name: 1, dtype: float64,\n",
       "  1370    129.0\n",
       "  1371    129.0\n",
       "  1372    122.0\n",
       "  1373    110.0\n",
       "  1374    110.0\n",
       "  1375    103.0\n",
       "  1376    103.0\n",
       "  1377     89.0\n",
       "  1378     89.0\n",
       "  1379     85.0\n",
       "  1380     85.0\n",
       "  1381     95.0\n",
       "  1382     95.0\n",
       "  1383    109.0\n",
       "  1384    109.0\n",
       "  1385    117.0\n",
       "  Name: 1, dtype: float64,\n",
       "  1439    127.0\n",
       "  1440    118.0\n",
       "  1441    118.0\n",
       "  1442    114.0\n",
       "  1443    102.0\n",
       "  1444    102.0\n",
       "  1445     90.0\n",
       "  1446     90.0\n",
       "  1447     90.0\n",
       "  1448    100.0\n",
       "  1449    100.0\n",
       "  1450    112.0\n",
       "  1451    119.0\n",
       "  1452    119.0\n",
       "  Name: 1, dtype: float64,\n",
       "  1668    124.0\n",
       "  1669    114.0\n",
       "  1670    114.0\n",
       "  1671    102.0\n",
       "  1672    102.0\n",
       "  1673     88.0\n",
       "  1674     88.0\n",
       "  1675     82.0\n",
       "  1676     81.0\n",
       "  1677     81.0\n",
       "  1678     93.0\n",
       "  1679    108.0\n",
       "  1680    108.0\n",
       "  1681    125.0\n",
       "  1682    125.0\n",
       "  Name: 1, dtype: float64,\n",
       "  1709    128.0\n",
       "  1710    123.0\n",
       "  1711    123.0\n",
       "  1712    116.0\n",
       "  1713     99.0\n",
       "  1714     99.0\n",
       "  1715    100.0\n",
       "  1716    100.0\n",
       "  1717    110.0\n",
       "  1718    110.0\n",
       "  1719    117.0\n",
       "  Name: 1, dtype: float64,\n",
       "  1761    124.0\n",
       "  1762    113.0\n",
       "  1763    113.0\n",
       "  1764    100.0\n",
       "  1765     92.0\n",
       "  1766     92.0\n",
       "  1767     79.0\n",
       "  1768     88.0\n",
       "  1769     88.0\n",
       "  1770    100.0\n",
       "  1771    117.0\n",
       "  1772    117.0\n",
       "  Name: 1, dtype: float64],\n",
       " 14)"
      ]
     },
     "execution_count": 181,
     "metadata": {},
     "output_type": "execute_result"
    }
   ],
   "source": [
    "find_fluc(1, start, end), len(case_1_fluc)"
   ]
  },
  {
   "cell_type": "code",
   "execution_count": null,
   "metadata": {},
   "outputs": [],
   "source": [
    "# 리스트 저장하기 위한 피클 라이브러리\n",
    "import pickle"
   ]
  },
  {
   "cell_type": "code",
   "execution_count": 182,
   "metadata": {},
   "outputs": [],
   "source": [
    "with open('case_1_fluc.pkl','wb') as f:\n",
    "   pickle.dump(case_1_fluc,f)"
   ]
  },
  {
   "cell_type": "code",
   "execution_count": 183,
   "metadata": {},
   "outputs": [],
   "source": [
    " with open('case_1_fluc.pkl','rb') as f:\n",
    "    temp_temp = pickle.load(f)"
   ]
  },
  {
   "cell_type": "code",
   "execution_count": 184,
   "metadata": {},
   "outputs": [
    {
     "data": {
      "text/plain": [
       "[207    125.0\n",
       " 208    125.0\n",
       " 209    117.0\n",
       " 210    117.0\n",
       " 211    106.0\n",
       " 212    106.0\n",
       " 213    106.0\n",
       " 214     99.0\n",
       " 215     99.0\n",
       " 216     99.0\n",
       " 217     89.0\n",
       " 218     89.0\n",
       " 219     78.0\n",
       " 220     78.0\n",
       " 221     78.0\n",
       " 222     69.0\n",
       " 223     69.0\n",
       " 224     73.0\n",
       " 225     73.0\n",
       " 226     73.0\n",
       " 227     88.0\n",
       " 228     88.0\n",
       " 229     97.0\n",
       " 230     97.0\n",
       " 231     97.0\n",
       " 232    116.0\n",
       " Name: 1, dtype: float64,\n",
       " 325    128.0\n",
       " 326    120.0\n",
       " 327    120.0\n",
       " 328    114.0\n",
       " 329    114.0\n",
       " 330    101.0\n",
       " 331    101.0\n",
       " 332     87.0\n",
       " 333     75.0\n",
       " 334     75.0\n",
       " 335     85.0\n",
       " 336     85.0\n",
       " 337     88.0\n",
       " 338     88.0\n",
       " 339     96.0\n",
       " 340    114.0\n",
       " 341    114.0\n",
       " 342    123.0\n",
       " 343    123.0\n",
       " Name: 1, dtype: float64,\n",
       " 701     93.0\n",
       " 702     93.0\n",
       " 703    108.0\n",
       " 704    108.0\n",
       " 705    126.0\n",
       " 706    126.0\n",
       " 707    126.0\n",
       " Name: 1, dtype: float64,\n",
       " 767    126.0\n",
       " 768    126.0\n",
       " 769    116.0\n",
       " 770    102.0\n",
       " 771    102.0\n",
       " 772     85.0\n",
       " 773     85.0\n",
       " 774     78.0\n",
       " 775      0.0\n",
       " 776      0.0\n",
       " 777     90.0\n",
       " 778     90.0\n",
       " 779    108.0\n",
       " 780    118.0\n",
       " 781    118.0\n",
       " 782    117.0\n",
       " 783    117.0\n",
       " Name: 1, dtype: float64,\n",
       " 830    123.0\n",
       " 831    123.0\n",
       " 832    113.0\n",
       " 833    108.0\n",
       " 834    108.0\n",
       " 835     96.0\n",
       " 836     86.0\n",
       " 837     85.0\n",
       " 838     85.0\n",
       " 839     95.0\n",
       " 840    102.0\n",
       " 841    102.0\n",
       " 842    117.0\n",
       " Name: 1, dtype: float64,\n",
       " 993     129.0\n",
       " 994     129.0\n",
       " 995     129.0\n",
       " 996     121.0\n",
       " 997     121.0\n",
       " 998     121.0\n",
       " 999     121.0\n",
       " 1000    109.0\n",
       " 1001    109.0\n",
       " 1002    109.0\n",
       " 1003    102.0\n",
       " 1004    102.0\n",
       " 1005    102.0\n",
       " 1006     90.0\n",
       " 1007     90.0\n",
       " 1008     78.0\n",
       " 1009     78.0\n",
       " 1010     78.0\n",
       " 1011     88.0\n",
       " 1012     88.0\n",
       " 1013     88.0\n",
       " 1014    101.0\n",
       " 1015    101.0\n",
       " 1016    101.0\n",
       " 1017    117.0\n",
       " 1018    117.0\n",
       " 1019    125.0\n",
       " 1020    125.0\n",
       " 1021    125.0\n",
       " Name: 1, dtype: float64,\n",
       " 1065    127.0\n",
       " 1066    127.0\n",
       " 1067    117.0\n",
       " 1068    117.0\n",
       " 1069    104.0\n",
       " 1070    104.0\n",
       " 1071     98.0\n",
       " 1072     91.0\n",
       " 1073     91.0\n",
       " 1074     99.0\n",
       " 1075     99.0\n",
       " 1076    111.0\n",
       " 1077    125.0\n",
       " 1078    125.0\n",
       " Name: 1, dtype: float64,\n",
       " 1127    126.0\n",
       " 1128    126.0\n",
       " 1129    123.0\n",
       " 1130    114.0\n",
       " 1131    114.0\n",
       " 1132    103.0\n",
       " 1133    103.0\n",
       " 1134     92.0\n",
       " 1135     87.0\n",
       " 1136     82.0\n",
       " 1137     82.0\n",
       " 1138     94.0\n",
       " 1139    108.0\n",
       " 1140    108.0\n",
       " 1141    125.0\n",
       " Name: 1, dtype: float64,\n",
       " 1301    130.0\n",
       " 1302    130.0\n",
       " 1303    130.0\n",
       " 1304    124.0\n",
       " 1305    124.0\n",
       " 1306    115.0\n",
       " 1307    115.0\n",
       " 1308    101.0\n",
       " 1309    101.0\n",
       " 1310     95.0\n",
       " 1311     95.0\n",
       " 1312     95.0\n",
       " 1313     82.0\n",
       " 1314     82.0\n",
       " 1315     91.0\n",
       " 1316     91.0\n",
       " 1317    101.0\n",
       " 1318    101.0\n",
       " 1319    117.0\n",
       " 1320    125.0\n",
       " 1321    125.0\n",
       " Name: 1, dtype: float64,\n",
       " 1370    129.0\n",
       " 1371    129.0\n",
       " 1372    122.0\n",
       " 1373    110.0\n",
       " 1374    110.0\n",
       " 1375    103.0\n",
       " 1376    103.0\n",
       " 1377     89.0\n",
       " 1378     89.0\n",
       " 1379     85.0\n",
       " 1380     85.0\n",
       " 1381     95.0\n",
       " 1382     95.0\n",
       " 1383    109.0\n",
       " 1384    109.0\n",
       " 1385    117.0\n",
       " Name: 1, dtype: float64,\n",
       " 1439    127.0\n",
       " 1440    118.0\n",
       " 1441    118.0\n",
       " 1442    114.0\n",
       " 1443    102.0\n",
       " 1444    102.0\n",
       " 1445     90.0\n",
       " 1446     90.0\n",
       " 1447     90.0\n",
       " 1448    100.0\n",
       " 1449    100.0\n",
       " 1450    112.0\n",
       " 1451    119.0\n",
       " 1452    119.0\n",
       " Name: 1, dtype: float64,\n",
       " 1668    124.0\n",
       " 1669    114.0\n",
       " 1670    114.0\n",
       " 1671    102.0\n",
       " 1672    102.0\n",
       " 1673     88.0\n",
       " 1674     88.0\n",
       " 1675     82.0\n",
       " 1676     81.0\n",
       " 1677     81.0\n",
       " 1678     93.0\n",
       " 1679    108.0\n",
       " 1680    108.0\n",
       " 1681    125.0\n",
       " 1682    125.0\n",
       " Name: 1, dtype: float64,\n",
       " 1709    128.0\n",
       " 1710    123.0\n",
       " 1711    123.0\n",
       " 1712    116.0\n",
       " 1713     99.0\n",
       " 1714     99.0\n",
       " 1715    100.0\n",
       " 1716    100.0\n",
       " 1717    110.0\n",
       " 1718    110.0\n",
       " 1719    117.0\n",
       " Name: 1, dtype: float64,\n",
       " 1761    124.0\n",
       " 1762    113.0\n",
       " 1763    113.0\n",
       " 1764    100.0\n",
       " 1765     92.0\n",
       " 1766     92.0\n",
       " 1767     79.0\n",
       " 1768     88.0\n",
       " 1769     88.0\n",
       " 1770    100.0\n",
       " 1771    117.0\n",
       " 1772    117.0\n",
       " Name: 1, dtype: float64]"
      ]
     },
     "execution_count": 184,
     "metadata": {},
     "output_type": "execute_result"
    }
   ],
   "source": [
    "temp_temp"
   ]
  },
  {
   "cell_type": "markdown",
   "metadata": {},
   "source": [
    "# 2번"
   ]
  },
  {
   "cell_type": "code",
   "execution_count": 186,
   "metadata": {},
   "outputs": [
    {
     "name": "stdout",
     "output_type": "stream",
     "text": [
      "131\n"
     ]
    }
   ],
   "source": [
    "pass_point, temp_list = make_pass_point(make_diff_list(del_noise(case_2_diff)))\n",
    "start, end = fin_start_end(pass_point, temp_list)\n",
    "find_fluc(2, start, end)\n",
    "with open('case_2_fluc.pkl','wb') as f:\n",
    "   pickle.dump(case_2_fluc,f)"
   ]
  },
  {
   "cell_type": "code",
   "execution_count": 190,
   "metadata": {},
   "outputs": [
    {
     "name": "stdout",
     "output_type": "stream",
     "text": [
      "96\n"
     ]
    }
   ],
   "source": [
    "# 4번\n",
    "pass_point, temp_list = make_pass_point(make_diff_list(del_noise(case_4_diff)))\n",
    "start, end = fin_start_end(pass_point, temp_list)\n",
    "find_fluc(4, start, end)\n",
    "with open('case_4_fluc.pkl','wb') as f:\n",
    "   pickle.dump(case_4_fluc,f)"
   ]
  },
  {
   "cell_type": "code",
   "execution_count": 191,
   "metadata": {},
   "outputs": [
    {
     "name": "stdout",
     "output_type": "stream",
     "text": [
      "227\n"
     ]
    }
   ],
   "source": [
    "# 5번\n",
    "pass_point, temp_list = make_pass_point(make_diff_list(del_noise(case_5_diff)))\n",
    "start, end = fin_start_end(pass_point, temp_list)\n",
    "find_fluc(5, start, end)\n",
    "with open('case_5_fluc.pkl','wb') as f:\n",
    "   pickle.dump(case_5_fluc,f)"
   ]
  },
  {
   "cell_type": "code",
   "execution_count": 192,
   "metadata": {},
   "outputs": [
    {
     "name": "stdout",
     "output_type": "stream",
     "text": [
      "219\n"
     ]
    }
   ],
   "source": [
    "# 6번\n",
    "pass_point, temp_list = make_pass_point(make_diff_list(del_noise(case_6_diff)))\n",
    "start, end = fin_start_end(pass_point, temp_list)\n",
    "find_fluc(6, start, end)\n",
    "with open('case_6_fluc.pkl','wb') as f:\n",
    "   pickle.dump(case_6_fluc,f)"
   ]
  },
  {
   "cell_type": "code",
   "execution_count": 193,
   "metadata": {},
   "outputs": [
    {
     "name": "stdout",
     "output_type": "stream",
     "text": [
      "206\n"
     ]
    }
   ],
   "source": [
    "# 7번\n",
    "pass_point, temp_list = make_pass_point(make_diff_list(del_noise(case_7_diff)))\n",
    "start, end = fin_start_end(pass_point, temp_list)\n",
    "find_fluc(7, start, end)\n",
    "with open('case_7_fluc.pkl','wb') as f:\n",
    "   pickle.dump(case_7_fluc,f)"
   ]
  },
  {
   "cell_type": "code",
   "execution_count": null,
   "metadata": {},
   "outputs": [],
   "source": [
    "# 어느 정도 정확함\n",
    "# 4, 7 확인하기\n",
    "# 4는 하나 부족, 7은 하나 많음"
   ]
  },
  {
   "cell_type": "markdown",
   "metadata": {},
   "source": [
    "# 그래프 그려서 정확하게 잘랐는지 확인하기"
   ]
  },
  {
   "cell_type": "code",
   "execution_count": 220,
   "metadata": {},
   "outputs": [
    {
     "name": "stdout",
     "output_type": "stream",
     "text": [
      "1 번째\n",
      "14\n",
      "2 번째\n",
      "15\n",
      "3 번째\n",
      "15\n",
      "4 번째\n",
      "14\n",
      "5 번째\n",
      "30\n",
      "6 번째\n",
      "25\n",
      "7 번째\n",
      "26\n"
     ]
    }
   ],
   "source": [
    "# 정확하게 잘랐는지 확인하기\n",
    "# 1,2,3,5,6 정확하게 자름\n",
    "for i in range(1,8):\n",
    "    print(i,'번째'), print(len(globals()[f'case_{i}_fluc']))"
   ]
  },
  {
   "cell_type": "code",
   "execution_count": 218,
   "metadata": {},
   "outputs": [
    {
     "data": {
      "image/png": "[encoded data removed]",
      "text/plain": [
       "<Figure size 640x480 with 1 Axes>"
      ]
     },
     "metadata": {},
     "output_type": "display_data"
    },
    {
     "data": {
      "image/png": "[encoded data removed]",
      "text/plain": [
       "<Figure size 640x480 with 1 Axes>"
      ]
     },
     "metadata": {},
     "output_type": "display_data"
    },
    {
     "data": {
      "image/png": "[encoded data removed]",
      "text/plain": [
       "<Figure size 640x480 with 1 Axes>"
      ]
     },
     "metadata": {},
     "output_type": "display_data"
    },
    {
     "data": {
      "image/png": "[encoded data removed]",
      "text/plain": [
       "<Figure size 640x480 with 1 Axes>"
      ]
     },
     "metadata": {},
     "output_type": "display_data"
    },
    {
     "data": {
      "image/png": "[encoded data removed]",
      "text/plain": [
       "<Figure size 640x480 with 1 Axes>"
      ]
     },
     "metadata": {},
     "output_type": "display_data"
    },
    {
     "data": {
      "image/png": "[encoded data removed]",
      "text/plain": [
       "<Figure size 640x480 with 1 Axes>"
      ]
     },
     "metadata": {},
     "output_type": "display_data"
    },
    {
     "data": {
      "image/png": "[encoded data removed]",
      "text/plain": [
       "<Figure size 640x480 with 1 Axes>"
      ]
     },
     "metadata": {},
     "output_type": "display_data"
    }
   ],
   "source": [
    "for i in range(1,8):\n",
    "    graph = globals()[f'case_{i}_fluc']\n",
    "\n",
    "    for j in range(len(graph)):\n",
    "        plt.plot(graph[j])\n",
    "    plt.title(f'#{i}_case')\n",
    "    plt.savefig(f'#{i}_case_extraction.png')\n",
    "    plt.show()"
   ]
  },
  {
   "cell_type": "markdown",
   "metadata": {},
   "source": [
    "이 알고리즘은 참고용으로만 사용하기\n",
    "\n",
    "1,2,3 완벽하게 검출\n",
    "\n",
    "4 800번대 전후에서 하나 검출 못함\n",
    "\n",
    "5번 700번대 전후에서 2개 애매하게 찍힘\n"
   ]
  }
 ],
 "metadata": {
  "kernelspec": {
   "display_name": "Python 3.9.7 ('venv': venv)",
   "language": "python",
   "name": "python3"
  },
  "language_info": {
   "codemirror_mode": {
    "name": "ipython",
    "version": 3
   },
   "file_extension": ".py",
   "mimetype": "text/x-python",
   "name": "python",
   "nbconvert_exporter": "python",
   "pygments_lexer": "ipython3",
   "version": "3.9.7"
  },
  "orig_nbformat": 4,
  "vscode": {
   "interpreter": {
    "hash": "ac0b664b396024d072f599ab608783faf72f830841e15dbae3616efb459d3595"
   }
  }
 },
 "nbformat": 4,
 "nbformat_minor": 2
}
